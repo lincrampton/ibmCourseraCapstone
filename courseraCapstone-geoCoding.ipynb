{
 "cells": [
  {
   "cell_type": "markdown",
   "metadata": {},
   "source": [
    "# Capstone - IBM Applied Data Science #\n",
    "# Segmenting, Clustering and GeoCoding Canadian Neighborhoods#"
   ]
  },
  {
   "cell_type": "markdown",
   "metadata": {},
   "source": [
    "This notebook is the first step of peer-graded project evaluating neighborhoods in a Canadian province.\n",
    "\n",
    "Processes completed in this notebook include:    \n",
    "\n",
    "1. Download data via Internet page scrape,        \n",
    "2. Using the data from the page scrape, create pandas dataframe,     \n",
    "3. Clean data in pandas dataframe (remove/rename empty cells),     \n",
    "4. Explore and cluster neighborhoods,\n",
    "5. Geocode using postal codes."
   ]
  },
  {
   "cell_type": "markdown",
   "metadata": {},
   "source": [
    "### Step 0 - Libraries and Notebook Setup"
   ]
  },
  {
   "cell_type": "code",
   "execution_count": 1,
   "metadata": {},
   "outputs": [
    {
     "name": "stderr",
     "output_type": "stream",
     "text": [
      "/home/lin/anaconda3/lib/python3.5/site-packages/sklearn/utils/fixes.py:313: FutureWarning: numpy not_equal will not check object identity in the future. The comparison did not return the same result as suggested by the identity (`is`)) and will change.\n",
      "  _nan_object_mask = _nan_object_array != _nan_object_array\n"
     ]
    }
   ],
   "source": [
    "# library imports\n",
    "import pandas as pd\n",
    "pd.set_option('display.max_columns', None)    \n",
    "pd.set_option('display.max_rows', None)\n",
    "import numpy as np\n",
    "from pandas.io.json import json_normalize # JSON file -> pandas DF\n",
    "import json # JSON file manipulation\n",
    "import requests # HTTP library\n",
    "from bs4 import BeautifulSoup # scrapes info from web pages, on top of HTML or XLM parser\n",
    "import matplotlib.pyplot as plt # plotting library\n",
    "import matplotlib.cm as cm\n",
    "import matplotlib.colors as colors\n",
    "# %matplotlib inline # magic that allows matplot in Jupyter\n",
    "# !conda update -n base -c defaults conda --yes     # may needto run first time in new environment\n",
    "# !conda install -c conda-forge folium=0.5.0 --yes  # may need to run first time in new environment\n",
    "import folium # map rendering\n",
    "from sklearn.cluster import KMeans # clustering algorithm"
   ]
  },
  {
   "cell_type": "markdown",
   "metadata": {},
   "source": [
    "Sklearn library note: Large pink FutureWarning re sklearn.cluster library Kmeans -- currently when comparing two arrays of dtype=object, numpy checks if the return of the comparison function is False when both objects being compared are the exact same. Right now (2019), it assumes that all objects compare equal to themselves, but that will be changed at same time in the future.  Since it's a Future Warning, ignoring for now. (this info courtesy of stackoverflow, https://stackoverflow.com/questions/43591503/error-when-using-numpy-to-encode-categorical-features-of-dataset"
   ]
  },
  {
   "cell_type": "code",
   "execution_count": null,
   "metadata": {},
   "outputs": [],
   "source": []
  },
  {
   "cell_type": "markdown",
   "metadata": {},
   "source": [
    "### Step 1 - Download data via Internet page scrape ###\n",
    "Download Canadian post code data from wikipedia (url = \"https://en.wikipedia.org/wiki/List_of_postal_codes_of_Canada:_M\")        \n",
    "and scrape using BeautifulSoup "
   ]
  },
  {
   "cell_type": "code",
   "execution_count": 2,
   "metadata": {
    "scrolled": true
   },
   "outputs": [],
   "source": [
    "url = \"https://en.wikipedia.org/wiki/List_of_postal_codes_of_Canada:_M\"\n",
    "page = requests.get(url).text  # wikiArticle -> text document\n",
    "wikiHtml = BeautifulSoup(page, \"html.parser\")  # text -> parseTree\n",
    "neighborhoodTable = wikiHtml.find(\"table\", class_ = \"wikitable\")  # exracting info from html data\n",
    "neighborhoodRows = neighborhoodTable.find_all(\"tr\")  # exracting info from html data"
   ]
  },
  {
   "cell_type": "code",
   "execution_count": null,
   "metadata": {},
   "outputs": [],
   "source": []
  },
  {
   "cell_type": "markdown",
   "metadata": {},
   "source": [
    "### Step 2 - Create and Populate Pandas Dataframe ###\n",
    "Project instructions require:\n",
    "- Dataframe has three columns: PostalCode, Borough, and Neighborhood.\n",
    "- Only process the cells that have an assigned borough. Ignore cells with a borough that is Not assigned.\n",
    "- Group on postal code; more than one neighborhood can exist in one postal code area. \n",
    "- If cell has a borough but a Not assigned neighborhood, then neighborhood = borough."
   ]
  },
  {
   "cell_type": "code",
   "execution_count": 3,
   "metadata": {},
   "outputs": [
    {
     "name": "stdout",
     "output_type": "stream",
     "text": [
      "initial dataframe shape (289, 3)\n",
      "  PostalCode           Borough      Neighborhood\n",
      "0        M1A      Not assigned      Not assigned\n",
      "1        M2A      Not assigned      Not assigned\n",
      "2        M3A        North York         Parkwoods\n",
      "3        M4A        North York  Victoria Village\n",
      "4        M5A  Downtown Toronto      Harbourfront\n"
     ]
    }
   ],
   "source": [
    "# create and set up dataframe\n",
    "neighborhoodInfo = []\n",
    "colNames = ['PostalCode','Borough','Neighborhood'] # project requires columns PostalCode, Borough, Neighborhood\n",
    "for row in neighborhoodRows:\n",
    "    hoodInfo = row.text.split('\\n')[1:-1]\n",
    "    neighborhoodInfo.append(hoodInfo)\n",
    "hoodDF = pd.DataFrame(neighborhoodInfo[1:], columns = colNames)\n",
    "initialDataFrameShape = hoodDF.shape\n",
    "print(\"initial dataframe shape\", initialDataFrameShape)\n",
    "print(hoodDF.head())"
   ]
  },
  {
   "cell_type": "code",
   "execution_count": null,
   "metadata": {},
   "outputs": [],
   "source": []
  },
  {
   "cell_type": "markdown",
   "metadata": {},
   "source": [
    "### Step 3 - Clean data in pandas dataframe (remove/rename empty cells)"
   ]
  },
  {
   "cell_type": "code",
   "execution_count": 4,
   "metadata": {},
   "outputs": [
    {
     "name": "stdout",
     "output_type": "stream",
     "text": [
      "after removing cells without assigned boroughs, dataframe shape: (212, 3)\n"
     ]
    },
    {
     "data": {
      "text/html": [
       "<div>\n",
       "<style scoped>\n",
       "    .dataframe tbody tr th:only-of-type {\n",
       "        vertical-align: middle;\n",
       "    }\n",
       "\n",
       "    .dataframe tbody tr th {\n",
       "        vertical-align: top;\n",
       "    }\n",
       "\n",
       "    .dataframe thead th {\n",
       "        text-align: right;\n",
       "    }\n",
       "</style>\n",
       "<table border=\"1\" class=\"dataframe\">\n",
       "  <thead>\n",
       "    <tr style=\"text-align: right;\">\n",
       "      <th></th>\n",
       "      <th>PostalCode</th>\n",
       "      <th>Borough</th>\n",
       "      <th>Neighborhood</th>\n",
       "    </tr>\n",
       "  </thead>\n",
       "  <tbody>\n",
       "    <tr>\n",
       "      <th>0</th>\n",
       "      <td>M3A</td>\n",
       "      <td>North York</td>\n",
       "      <td>Parkwoods</td>\n",
       "    </tr>\n",
       "    <tr>\n",
       "      <th>1</th>\n",
       "      <td>M4A</td>\n",
       "      <td>North York</td>\n",
       "      <td>Victoria Village</td>\n",
       "    </tr>\n",
       "    <tr>\n",
       "      <th>2</th>\n",
       "      <td>M5A</td>\n",
       "      <td>Downtown Toronto</td>\n",
       "      <td>Harbourfront</td>\n",
       "    </tr>\n",
       "    <tr>\n",
       "      <th>3</th>\n",
       "      <td>M5A</td>\n",
       "      <td>Downtown Toronto</td>\n",
       "      <td>Regent Park</td>\n",
       "    </tr>\n",
       "    <tr>\n",
       "      <th>4</th>\n",
       "      <td>M6A</td>\n",
       "      <td>North York</td>\n",
       "      <td>Lawrence Heights</td>\n",
       "    </tr>\n",
       "  </tbody>\n",
       "</table>\n",
       "</div>"
      ],
      "text/plain": [
       "  PostalCode           Borough      Neighborhood\n",
       "0        M3A        North York         Parkwoods\n",
       "1        M4A        North York  Victoria Village\n",
       "2        M5A  Downtown Toronto      Harbourfront\n",
       "3        M5A  Downtown Toronto       Regent Park\n",
       "4        M6A        North York  Lawrence Heights"
      ]
     },
     "execution_count": 4,
     "metadata": {},
     "output_type": "execute_result"
    }
   ],
   "source": [
    "# remove entries with notAssigned Borough\n",
    "noBorough = hoodDF.index[hoodDF[\"Borough\"] == \"Not assigned\"] \n",
    "hoodDF.drop(hoodDF.index[noBorough], inplace=True)\n",
    "hoodDF.reset_index(drop=True, inplace=True)\n",
    "print(\"after removing cells without assigned boroughs, dataframe shape:\", hoodDF.shape)\n",
    "hoodDF.head()"
   ]
  },
  {
   "cell_type": "code",
   "execution_count": 5,
   "metadata": {},
   "outputs": [
    {
     "data": {
      "text/html": [
       "<div>\n",
       "<style scoped>\n",
       "    .dataframe tbody tr th:only-of-type {\n",
       "        vertical-align: middle;\n",
       "    }\n",
       "\n",
       "    .dataframe tbody tr th {\n",
       "        vertical-align: top;\n",
       "    }\n",
       "\n",
       "    .dataframe thead th {\n",
       "        text-align: right;\n",
       "    }\n",
       "</style>\n",
       "<table border=\"1\" class=\"dataframe\">\n",
       "  <thead>\n",
       "    <tr style=\"text-align: right;\">\n",
       "      <th></th>\n",
       "      <th>PostalCode</th>\n",
       "      <th>Borough</th>\n",
       "      <th>Neighborhood</th>\n",
       "    </tr>\n",
       "  </thead>\n",
       "  <tbody>\n",
       "    <tr>\n",
       "      <th>0</th>\n",
       "      <td>M3A</td>\n",
       "      <td>North York</td>\n",
       "      <td>Parkwoods</td>\n",
       "    </tr>\n",
       "    <tr>\n",
       "      <th>1</th>\n",
       "      <td>M4A</td>\n",
       "      <td>North York</td>\n",
       "      <td>Victoria Village</td>\n",
       "    </tr>\n",
       "    <tr>\n",
       "      <th>2</th>\n",
       "      <td>M5A</td>\n",
       "      <td>Downtown Toronto</td>\n",
       "      <td>Harbourfront</td>\n",
       "    </tr>\n",
       "    <tr>\n",
       "      <th>3</th>\n",
       "      <td>M5A</td>\n",
       "      <td>Downtown Toronto</td>\n",
       "      <td>Regent Park</td>\n",
       "    </tr>\n",
       "    <tr>\n",
       "      <th>4</th>\n",
       "      <td>M6A</td>\n",
       "      <td>North York</td>\n",
       "      <td>Lawrence Heights</td>\n",
       "    </tr>\n",
       "    <tr>\n",
       "      <th>5</th>\n",
       "      <td>M6A</td>\n",
       "      <td>North York</td>\n",
       "      <td>Lawrence Manor</td>\n",
       "    </tr>\n",
       "    <tr>\n",
       "      <th>6</th>\n",
       "      <td>M7A</td>\n",
       "      <td>Queen's Park</td>\n",
       "      <td>Queen's Park</td>\n",
       "    </tr>\n",
       "    <tr>\n",
       "      <th>7</th>\n",
       "      <td>M9A</td>\n",
       "      <td>Etobicoke</td>\n",
       "      <td>Islington Avenue</td>\n",
       "    </tr>\n",
       "    <tr>\n",
       "      <th>8</th>\n",
       "      <td>M1B</td>\n",
       "      <td>Scarborough</td>\n",
       "      <td>Rouge</td>\n",
       "    </tr>\n",
       "    <tr>\n",
       "      <th>9</th>\n",
       "      <td>M1B</td>\n",
       "      <td>Scarborough</td>\n",
       "      <td>Malvern</td>\n",
       "    </tr>\n",
       "  </tbody>\n",
       "</table>\n",
       "</div>"
      ],
      "text/plain": [
       "  PostalCode           Borough      Neighborhood\n",
       "0        M3A        North York         Parkwoods\n",
       "1        M4A        North York  Victoria Village\n",
       "2        M5A  Downtown Toronto      Harbourfront\n",
       "3        M5A  Downtown Toronto       Regent Park\n",
       "4        M6A        North York  Lawrence Heights\n",
       "5        M6A        North York    Lawrence Manor\n",
       "6        M7A      Queen's Park      Queen's Park\n",
       "7        M9A         Etobicoke  Islington Avenue\n",
       "8        M1B       Scarborough             Rouge\n",
       "9        M1B       Scarborough           Malvern"
      ]
     },
     "execution_count": 5,
     "metadata": {},
     "output_type": "execute_result"
    }
   ],
   "source": [
    "# rename neighborhood=borough for cells with a borough but a Not assigned neighborhood\n",
    "noHood = hoodDF.index[hoodDF[\"Neighborhood\"] == \"Not assigned\"] \n",
    "for hoodIndex in noHood:\n",
    "    hoodDF[\"Neighborhood\"][hoodIndex] = hoodDF[\"Borough\"][hoodIndex]\n",
    "hoodDF.head(10)"
   ]
  },
  {
   "cell_type": "code",
   "execution_count": null,
   "metadata": {},
   "outputs": [],
   "source": []
  },
  {
   "cell_type": "markdown",
   "metadata": {},
   "source": [
    "### Step 4 - Explore and Cluster Neighborhoods"
   ]
  },
  {
   "cell_type": "code",
   "execution_count": 6,
   "metadata": {},
   "outputs": [
    {
     "name": "stdout",
     "output_type": "stream",
     "text": [
      "The dataframe when clustered by postal codes is (103, 3) \n",
      "\n",
      "  PostalCode      Borough                                     Neighborhood\n",
      "0        M1B  Scarborough                                   Rouge, Malvern\n",
      "1        M1C  Scarborough           Highland Creek, Rouge Hill, Port Union\n",
      "2        M1E  Scarborough                Guildwood, Morningside, West Hill\n",
      "3        M1G  Scarborough                                           Woburn\n",
      "4        M1H  Scarborough                                        Cedarbrae\n",
      "5        M1J  Scarborough                              Scarborough Village\n",
      "6        M1K  Scarborough      East Birchmount Park, Ionview, Kennedy Park\n",
      "7        M1L  Scarborough                  Clairlea, Golden Mile, Oakridge\n",
      "8        M1M  Scarborough  Cliffcrest, Cliffside, Scarborough Village West\n",
      "9        M1N  Scarborough                      Birch Cliff, Cliffside West\n"
     ]
    }
   ],
   "source": [
    "postalCodeGroup = hoodDF.groupby('PostalCode')\n",
    "hoodGroups = postalCodeGroup['Neighborhood'].apply(lambda x: \"%s\" % ', '.join(x))\n",
    "boroughGroups = postalCodeGroup['Borough'].apply(lambda x: set(x).pop())\n",
    "neighborhood = pd.DataFrame(list(zip(boroughGroups.index, boroughGroups, hoodGroups)))\n",
    "neighborhood.columns = ['PostalCode', 'Borough', 'Neighborhood']\n",
    "print(\"The dataframe when clustered by postal codes is\", neighborhood.shape, '\\n')\n",
    "print(neighborhood.head(10))"
   ]
  },
  {
   "cell_type": "code",
   "execution_count": 7,
   "metadata": {},
   "outputs": [],
   "source": [
    "# borough_count = len(neighborhood['Borough'].unique())\n",
    "# neighborhood_count = neighborhood.shape[0]\n",
    "\n",
    "# print(\"Dataframe has\", borough_count, \"boroughs and\", neighborhood_count, \"neighborhoods\")"
   ]
  },
  {
   "cell_type": "code",
   "execution_count": null,
   "metadata": {},
   "outputs": [],
   "source": []
  },
  {
   "cell_type": "markdown",
   "metadata": {},
   "source": [
    "### Step 5 - Geocode"
   ]
  },
  {
   "cell_type": "code",
   "execution_count": 8,
   "metadata": {
    "scrolled": true
   },
   "outputs": [
    {
     "name": "stdout",
     "output_type": "stream",
     "text": [
      "  PostalCode      Borough                            Neighborhood   Latitude  \\\n",
      "0        M1B  Scarborough                          Rouge, Malvern  43.806686   \n",
      "1        M1C  Scarborough  Highland Creek, Rouge Hill, Port Union  43.784535   \n",
      "2        M1E  Scarborough       Guildwood, Morningside, West Hill  43.763573   \n",
      "3        M1G  Scarborough                                  Woburn  43.770992   \n",
      "4        M1H  Scarborough                               Cedarbrae  43.773136   \n",
      "\n",
      "   Longitude  \n",
      "0 -79.194353  \n",
      "1 -79.160497  \n",
      "2 -79.188711  \n",
      "3 -79.216917  \n",
      "4 -79.239476  \n"
     ]
    }
   ],
   "source": [
    "# create DF from csv file w geographical coordinates of each postal code (\"https://cocl.us/Geospatial_data\")\n",
    "geocodeDF = pd.read_csv(\"https://cocl.us/Geospatial_data\") \n",
    "geocodedHood = neighborhood.merge(geocodeDF, left_on='PostalCode', right_on='Postal Code') # csv file uses 'Postal Code'\n",
    "geocodedHood = geocodedHood.drop('Postal Code', 1)   # drop extraneous heading, leaving only 'PostalCode'\n",
    "print(geocodedHood.head())"
   ]
  }
 ],
 "metadata": {
  "anaconda-cloud": {},
  "kernelspec": {
   "display_name": "Python-with-Pixiedust_Spark-2.3",
   "language": "python",
   "name": "pythonwithpixiedustspark23"
  },
  "language_info": {
   "codemirror_mode": {
    "name": "ipython",
    "version": 3
   },
   "file_extension": ".py",
   "mimetype": "text/x-python",
   "name": "python",
   "nbconvert_exporter": "python",
   "pygments_lexer": "ipython3",
   "version": "3.5.2"
  }
 },
 "nbformat": 4,
 "nbformat_minor": 2
}
